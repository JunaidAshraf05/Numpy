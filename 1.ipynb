{
 "cells": [
  {
   "cell_type": "code",
   "execution_count": 2,
   "id": "7cb44785",
   "metadata": {},
   "outputs": [],
   "source": [
    "import numpy as np "
   ]
  },
  {
   "cell_type": "markdown",
   "id": "cae28346",
   "metadata": {},
   "source": [
    "Creating array from list     "
   ]
  },
  {
   "cell_type": "code",
   "execution_count": 5,
   "id": "65c836f5",
   "metadata": {},
   "outputs": [
    {
     "name": "stdout",
     "output_type": "stream",
     "text": [
      "[1 2 3 4 5]\n",
      "2D array: [[1 2 3]\n",
      " [4 5 6]]\n"
     ]
    }
   ],
   "source": [
    "arr_1d =np.array([1, 2, 3, 4, 5])\n",
    "print(arr_1d)\n",
    "arr_2d = np.array([[1, 2, 3], [4, 5, 6]])\n",
    "print(\"2D array:\", arr_2d)"
   ]
  },
  {
   "cell_type": "markdown",
   "id": "9bb63cc5",
   "metadata": {},
   "source": [
    "list vs numpy array\n"
   ]
  },
  {
   "cell_type": "code",
   "execution_count": 6,
   "id": "149c8404",
   "metadata": {},
   "outputs": [
    {
     "name": "stdout",
     "output_type": "stream",
     "text": [
      "Python list multiplication: [1, 2, 3, 4, 5, 1, 2, 3, 4, 5]\n",
      "Numpy array multiplication: [ 2  4  6  8 10]\n",
      "Python list comprehension time: 0.17054367065429688\n"
     ]
    }
   ],
   "source": [
    "py_list = [1, 2, 3, 4, 5]\n",
    "print(\"Python list multiplication:\", py_list * 2)\n",
    "\n",
    "np_array = np.array([1, 2, 3, 4, 5])\n",
    "print(\"Numpy array multiplication:\", np_array * 2)\n",
    "\n",
    "\n",
    "import time\n",
    "start = time.time()\n",
    "py_list =[i*2 for i in range(1000000)]\n",
    "print(\"Python list comprehension time:\", time.time() - start)\n",
    "\n",
    "\n",
    "\n",
    "\n"
   ]
  },
  {
   "cell_type": "code",
   "execution_count": 12,
   "id": "0872c5b7",
   "metadata": {},
   "outputs": [
    {
     "name": "stdout",
     "output_type": "stream",
     "text": [
      "zeros array:\n",
      " [[0. 0. 0. 0.]\n",
      " [0. 0. 0. 0.]\n",
      " [0. 0. 0. 0.]]\n",
      "ones array:\n",
      " [[1. 1. 1.]\n",
      " [1. 1. 1.]]\n",
      "full array:\n",
      " [[7 7 7]\n",
      " [7 7 7]]\n",
      "random array:\n",
      " [[0.89563389 0.34448052 0.64991069 0.81582499]\n",
      " [0.6002915  0.02163079 0.17985518 0.71869816]\n",
      " [0.70543203 0.43719731 0.66652363 0.69675185]]\n",
      "arange sequence: [ 0  2  4  6  8 10]\n"
     ]
    }
   ],
   "source": [
    "zeros = np.zeros((3, 4))\n",
    "print(\"zeros array:\\n\", zeros)\n",
    "\n",
    "ones = np.ones((2, 3))\n",
    "print(\"ones array:\\n\", ones)\n",
    "\n",
    "full = np.full((2, 3), 7)\n",
    "print(\"full array:\\n\", full)\n",
    "\n",
    "\n",
    "random_array = np.random.rand(3, 4)\n",
    "print(\"random array:\\n\", random_array)\n",
    "\n",
    "\n",
    "sequence = np.arange(0, 12, 2)\n",
    "print(\"arange sequence:\", sequence)\n"
   ]
  },
  {
   "cell_type": "markdown",
   "id": "39987b88",
   "metadata": {},
   "source": [
    "Vector Matrix Tensor"
   ]
  },
  {
   "cell_type": "code",
   "execution_count": null,
   "id": "1ff21f7a",
   "metadata": {},
   "outputs": [
    {
     "name": "stdout",
     "output_type": "stream",
     "text": [
      "Vector: [1 2 3]\n",
      "Matrix:\n",
      " [[1 2 3]\n",
      " [4 5 6]]\n",
      "Tensor:\n",
      " [[[1 2]\n",
      "  [3 4]]\n",
      "\n",
      " [[5 6]\n",
      "  [7 8]]]\n"
     ]
    }
   ],
   "source": [
    "vector = np.array([1, 2, 3])\n",
    "print(\"Vector:\", vector)\n",
    "\n",
    "\n",
    "matrix = np.array([[1, 2, 3], [4, 5, 6]])\n",
    "print(\"Matrix:\\n\", matrix)\n",
    "\n",
    "\n",
    "tensor = np.array([[[1, 2], [3, 4]], [[5, 6], [7, 8]]])\n",
    "print(\"Tensor:\\n\", tensor)\n",
    "# Numpy Basics: Creating and Manipulating Arrays\n",
    "# Vector, Matrix, Tensor\n",
    "\n"
   ]
  },
  {
   "cell_type": "markdown",
   "id": "0834fb2a",
   "metadata": {},
   "source": [
    "Array Properties"
   ]
  },
  {
   "cell_type": "code",
   "execution_count": 16,
   "id": "9051b542",
   "metadata": {},
   "outputs": [
    {
     "name": "stdout",
     "output_type": "stream",
     "text": [
      "Array shape: (2, 3)\n",
      "Array dimensions: 2\n",
      "Array data type: int64\n",
      "Array size: 6\n",
      "Array item size (in bytes): 8\n",
      "Array total bytes: 48\n",
      "Array type: <class 'numpy.ndarray'>\n"
     ]
    }
   ],
   "source": [
    "arr = np.array([[1, 2, 3], [4, 5, 6]])\n",
    "print(\"Array shape:\", arr.shape)\n",
    "print(\"Array dimensions:\", arr.ndim)\n",
    "print(\"Array data type:\", arr.dtype)\n",
    "print(\"Array size:\", arr.size)\n",
    "print(\"Array item size (in bytes):\", arr.itemsize)\n",
    "print(\"Array total bytes:\", arr.nbytes)\n",
    "print(\"Array type:\", type(arr))\n",
    "# Numpy Basics: Array Properties"
   ]
  },
  {
   "cell_type": "markdown",
   "id": "b1fdbc43",
   "metadata": {},
   "source": [
    "Array reshaping\n"
   ]
  },
  {
   "cell_type": "code",
   "execution_count": null,
   "id": "d3247487",
   "metadata": {},
   "outputs": [
    {
     "name": "stdout",
     "output_type": "stream",
     "text": [
      "Original array: [ 0  1  2  3  4  5  6  7  8  9 10 11]\n",
      "Reshaped array (3x4):\n",
      " [[ 0  1  2  3]\n",
      " [ 4  5  6  7]\n",
      " [ 8  9 10 11]]\n",
      "Flattened array: [ 0  1  2  3  4  5  6  7  8  9 10 11]\n",
      "Raveled array: [ 0  1  2  3  4  5  6  7  8  9 10 11]\n"
     ]
    }
   ],
   "source": [
    "arr = np.arange(12)\n",
    "print(\"Original array:\", arr)\n",
    "\n",
    "reshaped_arr = arr.reshape((3, 4))\n",
    "print(\"Reshaped array (3x4):\\n\", reshaped_arr)\n",
    "\n",
    "flattend = reshaped_arr.flatten()\n",
    "print(\"Flattened array:\", flattend)\n",
    "\n",
    "raveled = reshaped_arr.ravel()\n",
    "print(\"Raveled array:\", raveled)\n",
    "\n"
   ]
  },
  {
   "cell_type": "code",
   "execution_count": 21,
   "id": "1e3e47ed",
   "metadata": {},
   "outputs": [
    {
     "name": "stdout",
     "output_type": "stream",
     "text": [
      "Transposed array:\n",
      " [[ 0  4  8]\n",
      " [ 1  5  9]\n",
      " [ 2  6 10]\n",
      " [ 3  7 11]]\n"
     ]
    }
   ],
   "source": [
    "#Transpose\n",
    "transposed = reshaped_arr.T\n",
    "print(\"Transposed array:\\n\", transposed)\n"
   ]
  }
 ],
 "metadata": {
  "kernelspec": {
   "display_name": "Python 3",
   "language": "python",
   "name": "python3"
  },
  "language_info": {
   "codemirror_mode": {
    "name": "ipython",
    "version": 3
   },
   "file_extension": ".py",
   "mimetype": "text/x-python",
   "name": "python",
   "nbconvert_exporter": "python",
   "pygments_lexer": "ipython3",
   "version": "3.13.5"
  }
 },
 "nbformat": 4,
 "nbformat_minor": 5
}
