{
 "cells": [
  {
   "cell_type": "markdown",
   "id": "85e5c770",
   "metadata": {},
   "source": [
    "Numpy Array operation"
   ]
  },
  {
   "cell_type": "code",
   "execution_count": 3,
   "id": "d71d0ec7",
   "metadata": {},
   "outputs": [],
   "source": [
    "import numpy as np"
   ]
  },
  {
   "cell_type": "code",
   "execution_count": 4,
   "id": "8fb64622",
   "metadata": {},
   "outputs": [
    {
     "name": "stdout",
     "output_type": "stream",
     "text": [
      "Bsic Slicing , arr[2:7]\n",
      "With Step [2 4 6 8]\n",
      "Reverse Array [9 8 7 6 5 4 3 2 1]\n",
      "Every Second Element [1 3 5 7 9]\n",
      "Last Three Elements [7 8 9]\n",
      "All But Last Three Elements [1 2 3 4 5 6]\n",
      "From Start to Index 5 [1 2 3 4 5]\n",
      "Negative indexing 5\n"
     ]
    }
   ],
   "source": [
    "arr = np .array([1, 2, 3, 4, 5 , 6, 7, 8, 9])\n",
    "print(\"Bsic Slicing , arr[2:7]\")\n",
    "print(\"With Step\" , arr[1:8:2])\n",
    "print(\"Reverse Array\" , arr[::-1])\n",
    "print(\"Every Second Element\" , arr[::2])\n",
    "print(\"Last Three Elements\" , arr[-3:])\n",
    "print(\"All But Last Three Elements\" , arr[:-3])\n",
    "print(\"From Start to Index 5\" , arr[:5])\n",
    "print(\"Negative indexing\" , arr[-5])"
   ]
  },
  {
   "cell_type": "code",
   "execution_count": 5,
   "id": "54a786cf",
   "metadata": {},
   "outputs": [
    {
     "name": "stdout",
     "output_type": "stream",
     "text": [
      "Specific element 6\n",
      "Entire row [1 2 3]\n",
      "Entire column [2 5 8]\n"
     ]
    }
   ],
   "source": [
    "arr_2d = np.array([[1, 2, 3], [4, 5, 6], [7, 8, 9]])\n",
    "\n",
    "print(\"Specific element\", arr_2d[1, 2])  # Element at row 1, column 2\n",
    "print(\"Entire row\", arr_2d[0, :])  # Entire first row\n",
    "print(\"Entire column\", arr_2d[:, 1])  # Entire second column"
   ]
  },
  {
   "cell_type": "markdown",
   "id": "1a7ab66e",
   "metadata": {},
   "source": [
    "Sorting"
   ]
  },
  {
   "cell_type": "code",
   "execution_count": 6,
   "id": "c9b894d1",
   "metadata": {},
   "outputs": [
    {
     "name": "stdout",
     "output_type": "stream",
     "text": [
      "Unsorted array: [3 1 4 1 5 9 2 6 5]\n",
      "Sorted array: [1 1 2 3 4 5 5 6 9]\n",
      "Unsorted 2D array:\n",
      " [[3 1 2]\n",
      " [6 4 5]\n",
      " [9 7 8]]\n",
      "Sorted 2D array by rows:\n",
      " [[1 2 3]\n",
      " [4 5 6]\n",
      " [7 8 9]]\n"
     ]
    }
   ],
   "source": [
    "unsorted_arr = np.array([3, 1, 4, 1, 5, 9, 2, 6, 5])\n",
    "sorted_arr = np.sort(unsorted_arr)\n",
    "print(\"Unsorted array:\", unsorted_arr)\n",
    "print(\"Sorted array:\", sorted_arr)\n",
    "\n",
    "arr_2d_unsorted = np.array([[3, 1, 2], [6, 4, 5], [9, 7, 8]])\n",
    "print(\"Unsorted 2D array:\\n\", arr_2d_unsorted)\n",
    "sorted_arr_2d = np.sort(arr_2d_unsorted, axis=1)  # Sort each row\n",
    "print(\"Sorted 2D array by rows:\\n\", sorted_arr_2d)"
   ]
  },
  {
   "cell_type": "markdown",
   "id": "34da7a3e",
   "metadata": {},
   "source": [
    "#filter\n"
   ]
  },
  {
   "cell_type": "code",
   "execution_count": 7,
   "id": "04c47b97",
   "metadata": {},
   "outputs": [
    {
     "name": "stdout",
     "output_type": "stream",
     "text": [
      "Even numbers: [ 2  4  6  8 10]\n"
     ]
    }
   ],
   "source": [
    "numbers = np.array([1, 2, 3, 4, 5 ,6,7,8,9,10])\n",
    "even_numbers = numbers[numbers % 2 == 0]\n",
    "print(\"Even numbers:\", even_numbers)\n"
   ]
  },
  {
   "cell_type": "code",
   "execution_count": 8,
   "id": "23749a59",
   "metadata": {},
   "outputs": [
    {
     "name": "stdout",
     "output_type": "stream",
     "text": [
      "Odd numbers: [1 3 5 7 9]\n"
     ]
    }
   ],
   "source": [
    "numbers = np.array([1, 2, 3, 4, 5 ,6,7,8,9,10])\n",
    "odd_mask = numbers % 2 != 0\n",
    "odd_numbers = numbers[odd_mask]\n",
    "print(\"Odd numbers:\", odd_numbers)"
   ]
  },
  {
   "cell_type": "markdown",
   "id": "5bc25db1",
   "metadata": {},
   "source": [
    "Filter with mask\n"
   ]
  },
  {
   "cell_type": "code",
   "execution_count": 9,
   "id": "48c2cc7c",
   "metadata": {},
   "outputs": [
    {
     "name": "stdout",
     "output_type": "stream",
     "text": [
      "Numbers greater than 5: [ 6  7  8  9 10]\n"
     ]
    }
   ],
   "source": [
    "mask = numbers > 5\n",
    "print(\"Numbers greater than 5:\", numbers[mask])\n"
   ]
  },
  {
   "cell_type": "code",
   "execution_count": 10,
   "id": "fbb0c9b7",
   "metadata": {},
   "outputs": [
    {
     "name": "stdout",
     "output_type": "stream",
     "text": [
      "Numbers greater than 9: [10]\n"
     ]
    }
   ],
   "source": [
    "mask = numbers >9\n",
    "print(\"Numbers greater than 9:\", numbers[mask])"
   ]
  },
  {
   "cell_type": "markdown",
   "id": "0e51d948",
   "metadata": {},
   "source": [
    "Fancy indexing vs np.where()"
   ]
  },
  {
   "cell_type": "code",
   "execution_count": 11,
   "id": "afd8086e",
   "metadata": {},
   "outputs": [
    {
     "name": "stdout",
     "output_type": "stream",
     "text": [
      "[1 3 5]\n",
      "Indices of numbers greater than 5: [5 6 7 8 9]\n"
     ]
    }
   ],
   "source": [
    "indices = [0, 2, 4]\n",
    "print(numbers[indices])  # Output: [1 3 5]\n",
    "#Fancy indexing vs np.where()\n",
    "\n",
    "\n",
    "where_result = np.where(numbers > 5)\n",
    "print(\"Indices of numbers greater than 5:\", where_result[0])"
   ]
  },
  {
   "cell_type": "code",
   "execution_count": 14,
   "id": "0f96f3e1",
   "metadata": {},
   "outputs": [
    {
     "name": "stdout",
     "output_type": "stream",
     "text": [
      "Condition array (numbers > 5): [False False False False False  True  True  True  True  True]\n"
     ]
    }
   ],
   "source": [
    "condition_array = np.where(numbers > 5, True, False)\n",
    "print(\"Condition array (numbers > 5):\", condition_array)"
   ]
  },
  {
   "cell_type": "markdown",
   "id": "d89968a3",
   "metadata": {},
   "source": [
    "Adding and removing data"
   ]
  },
  {
   "cell_type": "code",
   "execution_count": 18,
   "id": "23b7a80f",
   "metadata": {},
   "outputs": [
    {
     "name": "stdout",
     "output_type": "stream",
     "text": [
      "[1 2 3 4 5 6]\n"
     ]
    }
   ],
   "source": [
    "arr1 =np.array([1, 2, 3])\n",
    "arr2 =np.array([4, 5, 6])   \n",
    "\n",
    "combined = np.concatenate((arr1, arr2))\n",
    "print(combined)  # Output: [5 7 9]\n"
   ]
  },
  {
   "cell_type": "markdown",
   "id": "a1869c81",
   "metadata": {},
   "source": [
    "Array compatiblity\n"
   ]
  },
  {
   "cell_type": "code",
   "execution_count": 20,
   "id": "c814e300",
   "metadata": {},
   "outputs": [
    {
     "name": "stdout",
     "output_type": "stream",
     "text": [
      "Compatible shapes for addition  True\n"
     ]
    }
   ],
   "source": [
    "a = np.array([[1, 2], [3, 4]])\n",
    "b = np.array([[5, 6], [7, 8]])\n",
    "\n",
    "print(\"Compatible shapes for addition \" , a.shape == b.shape)"
   ]
  },
  {
   "cell_type": "code",
   "execution_count": null,
   "id": "e47473a8",
   "metadata": {},
   "outputs": [
    {
     "name": "stdout",
     "output_type": "stream",
     "text": [
      "Array after adding new row:\n",
      " [[1 2]\n",
      " [3 4]\n",
      " [5 6]]\n",
      "Array compatibility\n"
     ]
    }
   ],
   "source": [
    "original = np.array([[1, 2] , [3,  4 ]])\n",
    "new_row = np.array([[5, 6]])\n",
    "\n",
    "with_new_row = np.vstack([original, new_row])\n",
    "print(\"Array after adding new row:\\n\", with_new_row)\n",
    "print(\"Array compatibility\")\n",
    "\n"
   ]
  }
 ],
 "metadata": {
  "kernelspec": {
   "display_name": "Python 3",
   "language": "python",
   "name": "python3"
  },
  "language_info": {
   "codemirror_mode": {
    "name": "ipython",
    "version": 3
   },
   "file_extension": ".py",
   "mimetype": "text/x-python",
   "name": "python",
   "nbconvert_exporter": "python",
   "pygments_lexer": "ipython3",
   "version": "3.13.5"
  }
 },
 "nbformat": 4,
 "nbformat_minor": 5
}
